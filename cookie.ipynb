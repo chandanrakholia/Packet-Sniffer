{
 "cells": [
  {
   "cell_type": "code",
   "execution_count": null,
   "metadata": {},
   "outputs": [],
   "source": [
    "%pip install scapy"
   ]
  },
  {
   "cell_type": "code",
   "execution_count": 1,
   "metadata": {},
   "outputs": [
    {
     "name": "stdout",
     "output_type": "stream",
     "text": [
      "Available network interfaces:\n",
      "lo\n",
      "eno1\n",
      "wlo1\n",
      "docker0\n"
     ]
    }
   ],
   "source": [
    "from scapy.all import get_if_list,Raw\n",
    "\n",
    "interfaces = get_if_list()\n",
    "\n",
    "print(\"Available network interfaces:\")\n",
    "for interface in interfaces:\n",
    "    print(interface)"
   ]
  },
  {
   "cell_type": "code",
   "execution_count": 2,
   "metadata": {},
   "outputs": [],
   "source": [
    "interface = \"wlo1\""
   ]
  },
  {
   "cell_type": "code",
   "execution_count": 29,
   "metadata": {},
   "outputs": [],
   "source": [
    "def get_cookies(packet):\n",
    "    try:\n",
    "        s = packet[Raw].load.decode(\"utf-8\")\n",
    "        si = s.find(\"Cookie:\")\n",
    "        if si == -1:\n",
    "            return None  \n",
    "        \n",
    "        # Find the index of the newline character after \"cookies: \"\n",
    "        ei = s.find(\"\\r\\n\",si)\n",
    "        if ei == -1:\n",
    "            return None  # If newline character is not found, return None\n",
    "        \n",
    "        # Extract the substring from \"cookies: \" till the newline character\n",
    "        ss= s[si + len(\"cookie: \"): ei]\n",
    "        \n",
    "        return ss\n",
    "    except :\n",
    "        return None"
   ]
  },
  {
   "cell_type": "code",
   "execution_count": 30,
   "metadata": {},
   "outputs": [],
   "source": [
    "from scapy.all import sniff, TCP\n",
    "mypackets = []\n",
    "\n",
    "def packet_callback(packet):\n",
    "    if packet.haslayer(TCP) and packet.haslayer(Raw): \n",
    "        cookies = get_cookies(packet)\n",
    "        # packet.show()\n",
    "        print(cookies)\n",
    "        print()\n",
    "        print()\n",
    "\n",
    "\n",
    "            \n",
    "def function2():\n",
    "    sniff(iface=interface, prn=packet_callback, store=False)"
   ]
  },
  {
   "cell_type": "code",
   "execution_count": 31,
   "metadata": {},
   "outputs": [
    {
     "name": "stdout",
     "output_type": "stream",
     "text": [
      "None\n",
      "\n",
      "\n",
      "JHONNY;\n",
      "\n",
      "\n",
      "None\n",
      "\n",
      "\n"
     ]
    }
   ],
   "source": [
    "function2()"
   ]
  },
  {
   "cell_type": "code",
   "execution_count": null,
   "metadata": {},
   "outputs": [],
   "source": []
  }
 ],
 "metadata": {
  "kernelspec": {
   "display_name": ".venv",
   "language": "python",
   "name": "python3"
  },
  "language_info": {
   "codemirror_mode": {
    "name": "ipython",
    "version": 3
   },
   "file_extension": ".py",
   "mimetype": "text/x-python",
   "name": "python",
   "nbconvert_exporter": "python",
   "pygments_lexer": "ipython3",
   "version": "3.10.12"
  }
 },
 "nbformat": 4,
 "nbformat_minor": 2
}
