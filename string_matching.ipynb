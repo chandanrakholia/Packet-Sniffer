{
 "cells": [
  {
   "cell_type": "code",
   "execution_count": null,
   "metadata": {},
   "outputs": [],
   "source": [
    "%pip install scapy"
   ]
  },
  {
   "cell_type": "code",
   "execution_count": 9,
   "metadata": {},
   "outputs": [
    {
     "name": "stdout",
     "output_type": "stream",
     "text": [
      "Available network interfaces:\n",
      "lo\n",
      "eno1\n",
      "wlo1\n",
      "docker0\n"
     ]
    }
   ],
   "source": [
    "from scapy.all import get_if_list,Raw\n",
    "\n",
    "interfaces = get_if_list()\n",
    "\n",
    "print(\"Available network interfaces:\")\n",
    "for interface in interfaces:\n",
    "    print(interface)"
   ]
  },
  {
   "cell_type": "code",
   "execution_count": 10,
   "metadata": {},
   "outputs": [],
   "source": [
    "interface = \"lo\""
   ]
  },
  {
   "cell_type": "code",
   "execution_count": 11,
   "metadata": {},
   "outputs": [
    {
     "name": "stdout",
     "output_type": "stream",
     "text": [
      "enter the keyword\n"
     ]
    }
   ],
   "source": [
    "print(\"enter the keyword\")\n",
    "keyword = str(input())"
   ]
  },
  {
   "cell_type": "code",
   "execution_count": 12,
   "metadata": {},
   "outputs": [],
   "source": [
    "def has_keyword(packet):\n",
    "    try:\n",
    "        packet_ascii = packet[Raw].load.decode(\"utf-8\")\n",
    "        res=packet_ascii.find(keyword)\n",
    "        if res==-1:\n",
    "            return False\n",
    "        else:\n",
    "            return True\n",
    "    except:\n",
    "        return False"
   ]
  },
  {
   "cell_type": "code",
   "execution_count": 22,
   "metadata": {},
   "outputs": [],
   "source": [
    "from scapy.all import sniff, TCP,IP,UDP\n",
    "\n",
    "def packet_callback(packet):\n",
    "    \n",
    "    if (packet.haslayer(TCP) or packet.haslayer(UDP)): \n",
    "        if(has_keyword(packet)):\n",
    "            print(\"!!!!!!!!!!!!!!!!! Alert !!!!!!!!!!!!!!!!\")\n",
    "            print(\"found a packet\")\n",
    "            print(\"Interface:\", packet.sniffed_on)\n",
    "            print(\"Source IP:\", packet[IP].src)\n",
    "            print(\"Destination IP:\", packet[IP].dst)\n",
    "            if packet.haslayer(TCP):\n",
    "                print(\"Protocol: TCP\")\n",
    "                print(\"Source Port:\", packet[TCP].sport)\n",
    "                print(\"Destination Port:\", packet[TCP].dport)\n",
    "            elif packet.haslayer(UDP):\n",
    "                print(\"Protocol: UDP\")\n",
    "                print(\"Source Port:\", packet[UDP].sport)\n",
    "                print(\"Destination Port:\", packet[UDP].dport)\n",
    "def function2():\n",
    "    sniff(iface=interface, prn=packet_callback, store=False)"
   ]
  },
  {
   "cell_type": "code",
   "execution_count": 23,
   "metadata": {},
   "outputs": [
    {
     "name": "stdout",
     "output_type": "stream",
     "text": [
      "!!!!!!!!!!!!!!!!! Alert !!!!!!!!!!!!!!!!\n",
      "found a packet\n",
      "Interface: lo\n",
      "Source IP: 127.0.0.1\n",
      "Destination IP: 127.0.0.1\n",
      "Protocol: TCP\n",
      "Source Port: 80\n",
      "Destination Port: 55760\n",
      "!!!!!!!!!!!!!!!!! Alert !!!!!!!!!!!!!!!!\n",
      "found a packet\n",
      "Interface: lo\n",
      "Source IP: 127.0.0.1\n",
      "Destination IP: 127.0.0.1\n",
      "Protocol: TCP\n",
      "Source Port: 80\n",
      "Destination Port: 55760\n"
     ]
    }
   ],
   "source": [
    "function2()"
   ]
  },
  {
   "cell_type": "code",
   "execution_count": null,
   "metadata": {},
   "outputs": [],
   "source": []
  }
 ],
 "metadata": {
  "kernelspec": {
   "display_name": ".venv",
   "language": "python",
   "name": "python3"
  },
  "language_info": {
   "codemirror_mode": {
    "name": "ipython",
    "version": 3
   },
   "file_extension": ".py",
   "mimetype": "text/x-python",
   "name": "python",
   "nbconvert_exporter": "python",
   "pygments_lexer": "ipython3",
   "version": "3.10.12"
  }
 },
 "nbformat": 4,
 "nbformat_minor": 2
}
