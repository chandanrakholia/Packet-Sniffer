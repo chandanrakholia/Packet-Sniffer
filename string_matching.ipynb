{
 "cells": [
  {
   "cell_type": "code",
   "execution_count": 1,
   "metadata": {},
   "outputs": [
    {
     "name": "stdout",
     "output_type": "stream",
     "text": [
      "Requirement already satisfied: scapy in /opt/homebrew/lib/python3.11/site-packages (2.5.0)\n",
      "Note: you may need to restart the kernel to use updated packages.\n"
     ]
    }
   ],
   "source": [
    "%pip install scapy"
   ]
  },
  {
   "cell_type": "code",
   "execution_count": 2,
   "metadata": {},
   "outputs": [
    {
     "name": "stderr",
     "output_type": "stream",
     "text": [
      "WARNING: No IPv4 address found on anpi1 !\n",
      "WARNING: No IPv4 address found on anpi0 !\n",
      "WARNING: more No IPv4 address found on en3 !\n"
     ]
    },
    {
     "name": "stdout",
     "output_type": "stream",
     "text": [
      "Available network interfaces:\n",
      "lo0\n",
      "anpi1\n",
      "anpi0\n",
      "en3\n",
      "en4\n",
      "en1\n",
      "en2\n",
      "ap1\n",
      "en0\n",
      "awdl0\n",
      "llw0\n",
      "bridge0\n"
     ]
    }
   ],
   "source": [
    "from scapy.all import get_if_list,Raw\n",
    "\n",
    "interfaces = get_if_list()\n",
    "\n",
    "print(\"Available network interfaces:\")\n",
    "for interface in interfaces:\n",
    "    print(interface)"
   ]
  },
  {
   "cell_type": "code",
   "execution_count": 3,
   "metadata": {},
   "outputs": [],
   "source": [
    "interface = \"en0\""
   ]
  },
  {
   "cell_type": "code",
   "execution_count": 4,
   "metadata": {},
   "outputs": [
    {
     "name": "stdout",
     "output_type": "stream",
     "text": [
      "enter the keyword\n"
     ]
    }
   ],
   "source": [
    "print(\"enter the keyword\")\n",
    "keyword = str(input())"
   ]
  },
  {
   "cell_type": "code",
   "execution_count": 17,
   "metadata": {},
   "outputs": [],
   "source": [
    "import re"
   ]
  },
  {
   "cell_type": "code",
   "execution_count": 6,
   "metadata": {},
   "outputs": [],
   "source": [
    "def has_keyword(packet):\n",
    "    try:\n",
    "        packet_ascii = packet[Raw].load.decode(\"utf-8\")\n",
    "        res=packet_ascii.find(keyword)\n",
    "        res=re.search(keyword,packet_ascii)\n",
    "        if res:\n",
    "            return True\n",
    "        else:\n",
    "            return False\n",
    "    except:\n",
    "        return False"
   ]
  },
  {
   "cell_type": "code",
   "execution_count": 7,
   "metadata": {},
   "outputs": [],
   "source": [
    "from scapy.all import sniff, TCP,IP,UDP\n",
    "\n",
    "def packet_callback(packet):\n",
    "    \n",
    "    if (packet.haslayer(TCP) or packet.haslayer(UDP)): \n",
    "        if(has_keyword(packet)):\n",
    "            print(\"!!!!!!!!!!!!!!!!! Alert !!!!!!!!!!!!!!!!\")\n",
    "            print(\"found a packet\")\n",
    "            print(\"Interface:\", packet.sniffed_on)\n",
    "            print(\"Source IP:\", packet[IP].src)\n",
    "            print(\"Destination IP:\", packet[IP].dst)\n",
    "            if packet.haslayer(TCP):\n",
    "                print(\"Protocol: TCP\")\n",
    "                print(\"Source Port:\", packet[TCP].sport)\n",
    "                print(\"Destination Port:\", packet[TCP].dport)\n",
    "            elif packet.haslayer(UDP):\n",
    "                print(\"Protocol: UDP\")\n",
    "                print(\"Source Port:\", packet[UDP].sport)\n",
    "                print(\"Destination Port:\", packet[UDP].dport)\n",
    "def function2():\n",
    "    sniff(iface=interface, prn=packet_callback, store=False)"
   ]
  },
  {
   "cell_type": "code",
   "execution_count": 8,
   "metadata": {},
   "outputs": [],
   "source": [
    "function2()"
   ]
  },
  {
   "cell_type": "code",
   "execution_count": null,
   "metadata": {},
   "outputs": [],
   "source": []
  }
 ],
 "metadata": {
  "kernelspec": {
   "display_name": ".venv",
   "language": "python",
   "name": "python3"
  },
  "language_info": {
   "codemirror_mode": {
    "name": "ipython",
    "version": 3
   },
   "file_extension": ".py",
   "mimetype": "text/x-python",
   "name": "python",
   "nbconvert_exporter": "python",
   "pygments_lexer": "ipython3",
   "version": "3.11.8"
  }
 },
 "nbformat": 4,
 "nbformat_minor": 2
}
