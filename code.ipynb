{
 "cells": [
  {
   "cell_type": "code",
   "execution_count": 4,
   "metadata": {},
   "outputs": [
    {
     "name": "stdout",
     "output_type": "stream",
     "text": [
      "Requirement already satisfied: scapy in ./.venv/lib/python3.10/site-packages (2.5.0)\n",
      "Note: you may need to restart the kernel to use updated packages.\n"
     ]
    }
   ],
   "source": [
    "%pip install scapy"
   ]
  },
  {
   "cell_type": "code",
   "execution_count": 57,
   "metadata": {},
   "outputs": [
    {
     "name": "stdout",
     "output_type": "stream",
     "text": [
      "Available network interfaces:\n",
      "lo\n",
      "eno1\n",
      "wlo1\n",
      "docker0\n"
     ]
    }
   ],
   "source": [
    "from scapy.all import get_if_list,Raw\n",
    "\n",
    "# Get a list of available network interfaces\n",
    "interfaces = get_if_list()\n",
    "\n",
    "# Print the list of interfaces\n",
    "print(\"Available network interfaces:\")\n",
    "for interface in interfaces:\n",
    "    print(interface)"
   ]
  },
  {
   "cell_type": "code",
   "execution_count": 92,
   "metadata": {},
   "outputs": [
    {
     "data": {
      "text/plain": [
       "<Sniffed: TCP:0 UDP:0 ICMP:0 Other:0>"
      ]
     },
     "execution_count": 92,
     "metadata": {},
     "output_type": "execute_result"
    }
   ],
   "source": [
    "from scapy.all import sniff, TCP\n",
    "mypackets = []\n",
    "# Define a callback function to process each packet\n",
    "def packet_callback(packet):\n",
    "    if packet.haslayer(TCP) and( packet[TCP].dport == 80 or packet[TCP].sport == 80 ):  # Filter HTTP packets\n",
    "        mypackets.append(packet)\n",
    "\n",
    "# Specify the network interface to sniff on\n",
    "interface = \"wlo1\"  # Change this to the interface you want to sniff on\n",
    "\n",
    "# Start sniffing packets on the specified network interface\n",
    "sniff(iface=interface, prn=packet_callback, store=False)\n"
   ]
  },
  {
   "cell_type": "code",
   "execution_count": 93,
   "metadata": {},
   "outputs": [],
   "source": [
    "import json"
   ]
  },
  {
   "cell_type": "code",
   "execution_count": 94,
   "metadata": {},
   "outputs": [],
   "source": [
    "from scapy.utils import hexdump"
   ]
  },
  {
   "cell_type": "code",
   "execution_count": 95,
   "metadata": {},
   "outputs": [],
   "source": [
    "with open('http_packets_hexdump.txt', 'w') as file:\n",
    "    # Iterate over each packet in mypackets\n",
    "    for packet in mypackets:\n",
    "        # Generate the hexdump for the packet\n",
    "        packet_hexdump = hexdump(packet, dump=True)\n",
    "        \n",
    "        # Write the hexdump to the file\n",
    "        file.write(packet_hexdump)\n",
    "        \n",
    "        # Add two newline characters to separate each packet's hexdump\n",
    "        file.write('\\n\\n')"
   ]
  },
  {
   "cell_type": "code",
   "execution_count": 96,
   "metadata": {},
   "outputs": [
    {
     "data": {
      "text/plain": [
       "366"
      ]
     },
     "execution_count": 96,
     "metadata": {},
     "output_type": "execute_result"
    }
   ],
   "source": [
    "len(mypackets)"
   ]
  },
  {
   "cell_type": "code",
   "execution_count": 97,
   "metadata": {},
   "outputs": [],
   "source": [
    "# Open a file to write the ASCII representation\n",
    "with open('http_packets_ascii.txt', 'w') as file:\n",
    "    # Iterate over each packet in mypackets\n",
    "    for packet in mypackets:\n",
    "        \n",
    "        try:\n",
    "            # Convert the packet to its ASCII representation\n",
    "            packet_ascii = packet[Raw].load.decode(\"utf-8\")\n",
    "            \n",
    "            # Write the ASCII representation to the file\n",
    "            file.write(packet_ascii)\n",
    "            \n",
    "            # Add a newline character to separate each packet's ASCII representation\n",
    "            file.write('\\n\\n')\n",
    "        except :\n",
    "            pass"
   ]
  },
  {
   "cell_type": "code",
   "execution_count": null,
   "metadata": {},
   "outputs": [],
   "source": [
    "    "
   ]
  }
 ],
 "metadata": {
  "kernelspec": {
   "display_name": ".venv",
   "language": "python",
   "name": "python3"
  },
  "language_info": {
   "codemirror_mode": {
    "name": "ipython",
    "version": 3
   },
   "file_extension": ".py",
   "mimetype": "text/x-python",
   "name": "python",
   "nbconvert_exporter": "python",
   "pygments_lexer": "ipython3",
   "version": "3.10.12"
  }
 },
 "nbformat": 4,
 "nbformat_minor": 2
}
