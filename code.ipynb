{
 "cells": [
  {
   "cell_type": "code",
   "execution_count": 1,
   "metadata": {},
   "outputs": [
    {
     "name": "stdout",
     "output_type": "stream",
     "text": [
      "Collecting scapy\n",
      "  Using cached scapy-2.5.0.tar.gz (1.3 MB)\n",
      "  Preparing metadata (setup.py) ... \u001b[?25ldone\n",
      "\u001b[?25hBuilding wheels for collected packages: scapy\n",
      "  Building wheel for scapy (setup.py) ... \u001b[?25ldone\n",
      "\u001b[?25h  Created wheel for scapy: filename=scapy-2.5.0-py2.py3-none-any.whl size=1444328 sha256=4712705aad8ee311f7d964944bc7f126081b6972ae06cc3a998428bf1793cac4\n",
      "  Stored in directory: /Users/chandan/Library/Caches/pip/wheels/11/ff/28/a1348d0c6d006242c053521732bc2951d0c9eca62a11430da1\n",
      "Successfully built scapy\n",
      "Installing collected packages: scapy\n",
      "Successfully installed scapy-2.5.0\n",
      "Note: you may need to restart the kernel to use updated packages.\n"
     ]
    }
   ],
   "source": [
    "%pip install scapy"
   ]
  },
  {
   "cell_type": "code",
   "execution_count": 81,
   "metadata": {},
   "outputs": [
    {
     "name": "stdout",
     "output_type": "stream",
     "text": [
      "Available network interfaces:\n",
      "lo\n",
      "eno1\n",
      "wlo1\n",
      "docker0\n"
     ]
    }
   ],
   "source": [
    "from scapy.all import get_if_list,Raw\n",
    "\n",
    "interfaces = get_if_list()\n",
    "\n",
    "print(\"Available network interfaces:\")\n",
    "for interface in interfaces:\n",
    "    print(interface)"
   ]
  },
  {
   "cell_type": "code",
   "execution_count": 82,
   "metadata": {},
   "outputs": [],
   "source": [
    "interface = \"lo\""
   ]
  },
  {
   "cell_type": "code",
   "execution_count": 87,
   "metadata": {},
   "outputs": [
    {
     "name": "stdout",
     "output_type": "stream",
     "text": [
      "enter the keyword\n"
     ]
    }
   ],
   "source": [
    "print(\"enter the keyword\")\n",
    "keyword = str(input())"
   ]
  },
  {
   "cell_type": "code",
   "execution_count": 88,
   "metadata": {},
   "outputs": [],
   "source": [
    "def has_keyword(packet):\n",
    "    try:\n",
    "        packet_ascii = packet[Raw].load.decode(\"utf-8\")\n",
    "        res=packet_ascii.find(keyword)\n",
    "        if res==-1:\n",
    "            return False\n",
    "        else:\n",
    "            return True\n",
    "    except:\n",
    "        return False"
   ]
  },
  {
   "cell_type": "code",
   "execution_count": 93,
   "metadata": {},
   "outputs": [],
   "source": [
    "from scapy.all import sniff, TCP\n",
    "mypackets = []\n",
    "\n",
    "def packet_callback(packet):\n",
    "    if packet.haslayer(TCP) and packet.haslayer(Raw): \n",
    "        if(has_keyword(packet)):\n",
    "            packet.show()\n",
    "\n",
    "\n",
    "            \n",
    "def function2():\n",
    "    sniff(iface=interface, prn=packet_callback, store=False)"
   ]
  },
  {
   "cell_type": "code",
   "execution_count": 94,
   "metadata": {},
   "outputs": [
    {
     "name": "stdout",
     "output_type": "stream",
     "text": [
      "###[ Ethernet ]### \n",
      "  dst       = 00:00:00:00:00:00\n",
      "  src       = 00:00:00:00:00:00\n",
      "  type      = IPv4\n",
      "###[ IP ]### \n",
      "     version   = 4\n",
      "     ihl       = 5\n",
      "     tos       = 0x0\n",
      "     len       = 130\n",
      "     id        = 48062\n",
      "     flags     = DF\n",
      "     frag      = 0\n",
      "     ttl       = 64\n",
      "     proto     = tcp\n",
      "     chksum    = 0x6bc6\n",
      "     src       = 192.168.72.208\n",
      "     dst       = 192.168.72.208\n",
      "     \\options   \\\n",
      "###[ TCP ]### \n",
      "        sport     = 35258\n",
      "        dport     = http\n",
      "        seq       = 2707225371\n",
      "        ack       = 1142135592\n",
      "        dataofs   = 8\n",
      "        reserved  = 0\n",
      "        flags     = PA\n",
      "        window    = 512\n",
      "        chksum    = 0x1366\n",
      "        urgptr    = 0\n",
      "        options   = [('NOP', None), ('NOP', None), ('Timestamp', (2826188921, 2826188921))]\n",
      "###[ Raw ]### \n",
      "           load      = 'GET / HTTP/1.1\\r\\nHost: 192.168.72.208\\r\\nUser-Agent: curl/7.81.0\\r\\nAccept: */*\\r\\n\\r\\n'\n",
      "\n",
      "###[ Ethernet ]### \n",
      "  dst       = 00:00:00:00:00:00\n",
      "  src       = 00:00:00:00:00:00\n",
      "  type      = IPv4\n",
      "###[ IP ]### \n",
      "     version   = 4\n",
      "     ihl       = 5\n",
      "     tos       = 0x0\n",
      "     len       = 130\n",
      "     id        = 48062\n",
      "     flags     = DF\n",
      "     frag      = 0\n",
      "     ttl       = 64\n",
      "     proto     = tcp\n",
      "     chksum    = 0x6bc6\n",
      "     src       = 192.168.72.208\n",
      "     dst       = 192.168.72.208\n",
      "     \\options   \\\n",
      "###[ TCP ]### \n",
      "        sport     = 35258\n",
      "        dport     = http\n",
      "        seq       = 2707225371\n",
      "        ack       = 1142135592\n",
      "        dataofs   = 8\n",
      "        reserved  = 0\n",
      "        flags     = PA\n",
      "        window    = 512\n",
      "        chksum    = 0x1366\n",
      "        urgptr    = 0\n",
      "        options   = [('NOP', None), ('NOP', None), ('Timestamp', (2826188921, 2826188921))]\n",
      "###[ Raw ]### \n",
      "           load      = 'GET / HTTP/1.1\\r\\nHost: 192.168.72.208\\r\\nUser-Agent: curl/7.81.0\\r\\nAccept: */*\\r\\n\\r\\n'\n",
      "\n",
      "###[ Ethernet ]### \n",
      "  dst       = 00:00:00:00:00:00\n",
      "  src       = 00:00:00:00:00:00\n",
      "  type      = IPv4\n",
      "###[ IP ]### \n",
      "     version   = 4\n",
      "     ihl       = 5\n",
      "     tos       = 0x0\n",
      "     len       = 597\n",
      "     id        = 13487\n",
      "     flags     = DF\n",
      "     frag      = 0\n",
      "     ttl       = 64\n",
      "     proto     = tcp\n",
      "     chksum    = 0xf102\n",
      "     src       = 192.168.72.208\n",
      "     dst       = 192.168.72.208\n",
      "     \\options   \\\n",
      "###[ TCP ]### \n",
      "        sport     = http\n",
      "        dport     = 35258\n",
      "        seq       = 1142135592\n",
      "        ack       = 2707225449\n",
      "        dataofs   = 8\n",
      "        reserved  = 0\n",
      "        flags     = PA\n",
      "        window    = 512\n",
      "        chksum    = 0x1539\n",
      "        urgptr    = 0\n",
      "        options   = [('NOP', None), ('NOP', None), ('Timestamp', (2826188921, 2826188921))]\n",
      "###[ Raw ]### \n",
      "           load      = 'HTTP/1.1 200 OK\\r\\nDate: Wed, 03 Apr 2024 18:37:14 GMT\\r\\nServer: Apache/2.4.56 (Unix) OpenSSL/1.1.1t PHP/8.2.4 mod_perl/2.0.12 Perl/v5.34.1\\r\\nLast-Modified: Tue, 19 Mar 2024 09:36:45 GMT\\r\\nETag: \"ec-61400366dcf6a\"\\r\\nAccept-Ranges: bytes\\r\\nContent-Length: 236\\r\\nYourname: somegarbagestring\\r\\nContent-Type: text/html\\r\\n\\r\\n<!DOCTYPE html>\\n<html>\\n<body>\\n<head>\\n    <title>Anhad Website</title>\\n</head>\\n<h1>Anhad</h1>\\n<p>Anhad was very very good festival I enjoyed it alot</p>\\n<img id =\"profile-img\" src=\"profile.png\" alt=\"Example Image\" />\\n\\n\\n</body>\\n</html>\\n\\n\\n'\n",
      "\n",
      "###[ Ethernet ]### \n",
      "  dst       = 00:00:00:00:00:00\n",
      "  src       = 00:00:00:00:00:00\n",
      "  type      = IPv4\n",
      "###[ IP ]### \n",
      "     version   = 4\n",
      "     ihl       = 5\n",
      "     tos       = 0x0\n",
      "     len       = 597\n",
      "     id        = 13487\n",
      "     flags     = DF\n",
      "     frag      = 0\n",
      "     ttl       = 64\n",
      "     proto     = tcp\n",
      "     chksum    = 0xf102\n",
      "     src       = 192.168.72.208\n",
      "     dst       = 192.168.72.208\n",
      "     \\options   \\\n",
      "###[ TCP ]### \n",
      "        sport     = http\n",
      "        dport     = 35258\n",
      "        seq       = 1142135592\n",
      "        ack       = 2707225449\n",
      "        dataofs   = 8\n",
      "        reserved  = 0\n",
      "        flags     = PA\n",
      "        window    = 512\n",
      "        chksum    = 0x1539\n",
      "        urgptr    = 0\n",
      "        options   = [('NOP', None), ('NOP', None), ('Timestamp', (2826188921, 2826188921))]\n",
      "###[ Raw ]### \n",
      "           load      = 'HTTP/1.1 200 OK\\r\\nDate: Wed, 03 Apr 2024 18:37:14 GMT\\r\\nServer: Apache/2.4.56 (Unix) OpenSSL/1.1.1t PHP/8.2.4 mod_perl/2.0.12 Perl/v5.34.1\\r\\nLast-Modified: Tue, 19 Mar 2024 09:36:45 GMT\\r\\nETag: \"ec-61400366dcf6a\"\\r\\nAccept-Ranges: bytes\\r\\nContent-Length: 236\\r\\nYourname: somegarbagestring\\r\\nContent-Type: text/html\\r\\n\\r\\n<!DOCTYPE html>\\n<html>\\n<body>\\n<head>\\n    <title>Anhad Website</title>\\n</head>\\n<h1>Anhad</h1>\\n<p>Anhad was very very good festival I enjoyed it alot</p>\\n<img id =\"profile-img\" src=\"profile.png\" alt=\"Example Image\" />\\n\\n\\n</body>\\n</html>\\n\\n\\n'\n",
      "\n"
     ]
    }
   ],
   "source": [
    "function2()"
   ]
  },
  {
   "cell_type": "code",
   "execution_count": null,
   "metadata": {},
   "outputs": [],
   "source": []
  }
 ],
 "metadata": {
  "kernelspec": {
   "display_name": ".venv",
   "language": "python",
   "name": "python3"
  },
  "language_info": {
   "codemirror_mode": {
    "name": "ipython",
    "version": 3
   },
   "file_extension": ".py",
   "mimetype": "text/x-python",
   "name": "python",
   "nbconvert_exporter": "python",
   "pygments_lexer": "ipython3",
   "version": "3.10.12"
  }
 },
 "nbformat": 4,
 "nbformat_minor": 2
}
